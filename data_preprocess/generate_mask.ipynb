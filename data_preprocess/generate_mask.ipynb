{
 "cells": [
  {
   "cell_type": "code",
   "execution_count": 1,
   "metadata": {},
   "outputs": [],
   "source": [
    "import xml.etree.ElementTree as ET\n",
    "import numpy as np\n",
    "from PIL import Image\n",
    "\n",
    "import matplotlib.pyplot as plt\n",
    "%matplotlib inline "
   ]
  },
  {
   "cell_type": "code",
   "execution_count": 41,
   "metadata": {},
   "outputs": [],
   "source": [
    "tree = ET.parse('./../dataset/Marmot_data/10.1.1.1.2006_3.xml')\n",
    "root = tree.getroot()\n",
    "size = root.find('size')"
   ]
  },
  {
   "cell_type": "code",
   "execution_count": 42,
   "metadata": {},
   "outputs": [],
   "source": [
    "width = int(size.find('width').text)\n",
    "height = int(size.find('height').text)\n",
    "col_mask = np.zeros((height, width), dtype=np.int32)\n",
    "table_mask = np.zeros((height, width), dtype = np.int32)"
   ]
  },
  {
   "cell_type": "code",
   "execution_count": 43,
   "metadata": {},
   "outputs": [
    {
     "data": {
      "text/plain": [
       "(1123, 793)"
      ]
     },
     "execution_count": 43,
     "metadata": {},
     "output_type": "execute_result"
    }
   ],
   "source": [
    "col_mask.shape"
   ]
  },
  {
   "cell_type": "code",
   "execution_count": 44,
   "metadata": {},
   "outputs": [],
   "source": [
    "def sameTable(ymin_1, ymin_2, ymax_1, ymax_2):\n",
    "    min_diff = abs(ymin_1 - ymin_2)\n",
    "    max_diff = abs(ymax_1 - ymax_2)\n",
    "    \n",
    "    if min_diff <= 5 or max_diff <=5:\n",
    "        return True\n",
    "    elif min_diff <= 4 and max_diff <=7:\n",
    "        return True\n",
    "    elif min_diff <= 7 and max_diff <=4:\n",
    "        return True\n",
    "    return False"
   ]
  },
  {
   "cell_type": "code",
   "execution_count": 51,
   "metadata": {
    "scrolled": false
   },
   "outputs": [
    {
     "name": "stdout",
     "output_type": "stream",
     "text": [
      "458 517\n",
      "710 785\n",
      "0\n",
      "==========\n",
      "458 517\n",
      "710 785\n",
      "0\n",
      "------------\n",
      "531 568\n",
      "710 783\n",
      "0\n",
      "==========\n",
      "458 568\n",
      "710 785\n",
      "0\n",
      "------------\n",
      "583 619\n",
      "712 785\n",
      "0\n",
      "==========\n",
      "458 619\n",
      "710 785\n",
      "0\n",
      "------------\n",
      "637 670\n",
      "712 784\n",
      "0\n",
      "==========\n",
      "458 670\n",
      "710 785\n",
      "0\n",
      "------------\n"
     ]
    }
   ],
   "source": [
    "got_first_column = False\n",
    "i=0\n",
    "table_xmin = 10000\n",
    "table_xmax = 0\n",
    "\n",
    "table_ymin = 10000\n",
    "table_ymax = 0\n",
    "\n",
    "for column in root.findall('object'):\n",
    "    bndbox = column.find('bndbox')\n",
    "    xmin = int(bndbox.find('xmin').text)\n",
    "    ymin = int(bndbox.find('ymin').text)\n",
    "    xmax = int(bndbox.find('xmax').text)\n",
    "    ymax = int(bndbox.find('ymax').text)\n",
    "    \n",
    "    \n",
    "    if got_first_column:\n",
    "        if sameTable(prev_ymin, ymin, prev_ymax, ymax) == False:\n",
    "            i+=1\n",
    "            got_first_column = False\n",
    "            table_mask[table_ymin:table_ymax, table_xmin:table_xmax] = 255\n",
    "            print(\"**********\")\n",
    "            print(table_xmin, table_xmax)\n",
    "            print(table_ymin, table_ymax)\n",
    "            print(\"**********\")\n",
    "            \n",
    "            table_xmin = 10000\n",
    "            table_xmax = 0\n",
    "\n",
    "            table_ymin = 10000\n",
    "            table_ymax = 0\n",
    "            \n",
    "    if got_first_column == False:\n",
    "        got_first_column = True\n",
    "        first_xmin = xmin\n",
    "            \n",
    "    print(xmin, xmax)\n",
    "    print(ymin, ymax)\n",
    "    print(i)\n",
    "    print('==========')\n",
    "    prev_ymin = ymin\n",
    "    prev_ymax = ymax\n",
    "    col_mask[ymin:ymax, xmin:xmax] = 255\n",
    "    \n",
    "    table_xmin = min(xmin, table_xmin)\n",
    "    table_xmax = max(xmax, table_xmax)\n",
    "    \n",
    "    table_ymin = min(ymin, table_ymin)\n",
    "    table_ymax = max(ymax, table_ymax)\n",
    "    print(table_xmin, table_xmax)\n",
    "    print(table_ymin, table_ymax)\n",
    "    print(i)\n",
    "    print('------------')\n"
   ]
  },
  {
   "cell_type": "code",
   "execution_count": 53,
   "metadata": {},
   "outputs": [
    {
     "name": "stdout",
     "output_type": "stream",
     "text": [
      "**********\n",
      "458 670\n",
      "710 785\n",
      "**********\n"
     ]
    }
   ],
   "source": [
    "table_mask[table_ymin:table_ymax, table_xmin:table_xmax] = 255\n",
    "print(\"**********\")\n",
    "print(table_xmin, table_xmax)\n",
    "print(table_ymin, table_ymax)\n",
    "print(\"**********\")"
   ]
  },
  {
   "cell_type": "code",
   "execution_count": 54,
   "metadata": {
    "scrolled": true
   },
   "outputs": [
    {
     "data": {
      "text/plain": [
       "<matplotlib.image.AxesImage at 0x7f9867e233c8>"
      ]
     },
     "execution_count": 54,
     "metadata": {},
     "output_type": "execute_result"
    },
    {
     "data": {
      "image/png": "[encoded data removed]",
      "text/plain": [
       "<Figure size 432x288 with 1 Axes>"
      ]
     },
     "metadata": {
      "needs_background": "light"
     },
     "output_type": "display_data"
    }
   ],
   "source": [
    "fig = plt.figure()\n",
    "ax = fig.add_subplot(1, 1, 1)\n",
    "ax.imshow(col_mask.astype(np.uint8), cmap='gray')"
   ]
  },
  {
   "cell_type": "code",
   "execution_count": 55,
   "metadata": {},
   "outputs": [
    {
     "data": {
      "text/plain": [
       "<matplotlib.image.AxesImage at 0x7f9867d47358>"
      ]
     },
     "execution_count": 55,
     "metadata": {},
     "output_type": "execute_result"
    },
    {
     "data": {
      "image/png": "[encoded data removed]",
      "text/plain": [
       "<Figure size 432x288 with 1 Axes>"
      ]
     },
     "metadata": {
      "needs_background": "light"
     },
     "output_type": "display_data"
    }
   ],
   "source": [
    "fig = plt.figure()\n",
    "ax = fig.add_subplot(1, 1, 1)\n",
    "ax.imshow(table_mask.astype(np.uint8), cmap='gray')"
   ]
  },
  {
   "cell_type": "code",
   "execution_count": null,
   "metadata": {},
   "outputs": [],
   "source": []
  }
 ],
 "metadata": {
  "kernelspec": {
   "display_name": "face_emoji",
   "language": "python",
   "name": "face_emoji"
  },
  "language_info": {
   "codemirror_mode": {
    "name": "ipython",
    "version": 3
   },
   "file_extension": ".py",
   "mimetype": "text/x-python",
   "name": "python",
   "nbconvert_exporter": "python",
   "pygments_lexer": "ipython3",
   "version": "3.6.8"
  }
 },
 "nbformat": 4,
 "nbformat_minor": 2
}
