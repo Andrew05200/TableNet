{
 "cells": [
  {
   "cell_type": "code",
   "execution_count": 2,
   "metadata": {},
   "outputs": [],
   "source": [
    "import xml.etree.ElementTree as ET\n",
    "import numpy as np\n",
    "from PIL import Image\n",
    "\n",
    "import matplotlib.pyplot as plt\n",
    "%matplotlib inline "
   ]
  },
  {
   "cell_type": "code",
   "execution_count": 3,
   "metadata": {},
   "outputs": [],
   "source": [
    "tree = ET.parse('./dataset/Marmot_data/10.1.1.1.2051_6.xml')\n",
    "root = tree.getroot()\n",
    "size = root.find('size')"
   ]
  },
  {
   "cell_type": "code",
   "execution_count": 4,
   "metadata": {},
   "outputs": [],
   "source": [
    "width = int(size.find('width').text)\n",
    "height = int(size.find('height').text)\n",
    "col_mask = np.zeros((height, width), dtype=np.int32)\n",
    "table_mask = np.zeros((height, width), dtype = np.int32)"
   ]
  },
  {
   "cell_type": "code",
   "execution_count": 5,
   "metadata": {},
   "outputs": [
    {
     "data": {
      "text/plain": [
       "(1008, 768)"
      ]
     },
     "execution_count": 5,
     "metadata": {},
     "output_type": "execute_result"
    }
   ],
   "source": [
    "col_mask.shape"
   ]
  },
  {
   "cell_type": "code",
   "execution_count": 6,
   "metadata": {},
   "outputs": [],
   "source": [
    "def sameTable(ymin_1, ymin_2, ymax_1, ymax_2):\n",
    "    min_diff = abs(ymin_1 - ymin_2)\n",
    "    max_diff = abs(ymax_1 - ymax_2)\n",
    "    if min_diff <= 5 and max_diff <=5:\n",
    "        return True\n",
    "    elif min_diff <= 4 and max_diff <=7:\n",
    "        return True\n",
    "    elif min_diff <= 7 and max_diff <=4:\n",
    "        return True\n",
    "    return False"
   ]
  },
  {
   "cell_type": "code",
   "execution_count": 7,
   "metadata": {
    "scrolled": false
   },
   "outputs": [
    {
     "name": "stdout",
     "output_type": "stream",
     "text": [
      "104 114\n",
      "160 286\n",
      "0\n",
      "==========\n",
      "132 157\n",
      "156 292\n",
      "0\n",
      "==========\n",
      "177 209\n",
      "160 292\n",
      "0\n",
      "==========\n",
      "228 262\n",
      "159 289\n",
      "0\n",
      "==========\n",
      "281 315\n",
      "160 289\n",
      "0\n",
      "==========\n",
      "**********\n",
      "104 315\n",
      "160 289\n",
      "**********\n",
      "469 496\n",
      "160 265\n",
      "1\n",
      "==========\n",
      "510 523\n",
      "160 265\n",
      "1\n",
      "==========\n",
      "540 568\n",
      "160 265\n",
      "1\n",
      "==========\n",
      "584 609\n",
      "158 264\n",
      "1\n",
      "==========\n",
      "625 659\n",
      "159 264\n",
      "1\n",
      "==========\n",
      "**********\n",
      "469 659\n",
      "159 264\n",
      "**********\n",
      "115 142\n",
      "424 531\n",
      "2\n",
      "==========\n",
      "157 168\n",
      "427 531\n",
      "2\n",
      "==========\n",
      "186 215\n",
      "425 531\n",
      "2\n",
      "==========\n",
      "232 257\n",
      "427 530\n",
      "2\n",
      "==========\n",
      "269 306\n",
      "426 531\n",
      "2\n",
      "==========\n"
     ]
    }
   ],
   "source": [
    "got_first_column = False\n",
    "i=0\n",
    "first_xmin =0\n",
    "prev_xmax = 0\n",
    "\n",
    "prev_ymin = 0\n",
    "prev_ymax = 0\n",
    "\n",
    "for column in root.findall('object'):\n",
    "    bndbox = column.find('bndbox')\n",
    "    xmin = int(bndbox.find('xmin').text)\n",
    "    ymin = int(bndbox.find('ymin').text)\n",
    "    xmax = int(bndbox.find('xmax').text)\n",
    "    ymax = int(bndbox.find('ymax').text)\n",
    "    if got_first_column:\n",
    "        if sameTable(prev_ymin, ymin, prev_ymax, ymax) == False:\n",
    "            i+=1\n",
    "            got_first_column = False\n",
    "            print(\"**********\")\n",
    "            print(first_xmin, prev_xmax)\n",
    "            print(prev_ymin, prev_ymax)\n",
    "            print(\"**********\")\n",
    "            table_mask[prev_ymin:prev_ymax, first_xmin:prev_xmax] = 255\n",
    "            \n",
    "    if got_first_column == False:\n",
    "        got_first_column = True\n",
    "        first_xmin = xmin\n",
    "            \n",
    "    print(xmin, xmax)\n",
    "    print(ymin, ymax)\n",
    "    print(i)\n",
    "    print('==========')\n",
    "    prev_xmax = xmax\n",
    "    prev_ymin = ymin\n",
    "    prev_ymax = ymax\n",
    "    col_mask[ymin:ymax, xmin:xmax] = 255\n"
   ]
  },
  {
   "cell_type": "code",
   "execution_count": 8,
   "metadata": {},
   "outputs": [
    {
     "name": "stdout",
     "output_type": "stream",
     "text": [
      "**********\n",
      "115 306\n",
      "426 531\n",
      "**********\n"
     ]
    }
   ],
   "source": [
    "print(\"**********\")\n",
    "print(first_xmin, prev_xmax)\n",
    "print(prev_ymin, prev_ymax)\n",
    "print(\"**********\")\n",
    "table_mask[prev_ymin:prev_ymax, first_xmin:prev_xmax] = 255"
   ]
  },
  {
   "cell_type": "code",
   "execution_count": 9,
   "metadata": {
    "scrolled": true
   },
   "outputs": [
    {
     "data": {
      "text/plain": [
       "<matplotlib.image.AxesImage at 0x7f6dc4bd9be0>"
      ]
     },
     "execution_count": 9,
     "metadata": {},
     "output_type": "execute_result"
    },
    {
     "data": {
      "image/png": "[encoded data removed]",
      "text/plain": [
       "<Figure size 432x288 with 1 Axes>"
      ]
     },
     "metadata": {
      "needs_background": "light"
     },
     "output_type": "display_data"
    }
   ],
   "source": [
    "fig = plt.figure()\n",
    "ax = fig.add_subplot(1, 1, 1)\n",
    "ax.imshow(col_mask.astype(np.uint8), cmap='gray')"
   ]
  },
  {
   "cell_type": "code",
   "execution_count": 16,
   "metadata": {},
   "outputs": [],
   "source": [
    "im = Image.fromarray(col_mask.astype(np.uint8),'L')\n",
    "# im.show()\n",
    "im.save(\"column_mask.jpeg\")"
   ]
  },
  {
   "cell_type": "code",
   "execution_count": 17,
   "metadata": {},
   "outputs": [
    {
     "data": {
      "text/plain": [
       "<matplotlib.image.AxesImage at 0x7f6dd995cc18>"
      ]
     },
     "execution_count": 17,
     "metadata": {},
     "output_type": "execute_result"
    },
    {
     "data": {
      "image/png": "[encoded data removed]",
      "text/plain": [
       "<Figure size 432x288 with 1 Axes>"
      ]
     },
     "metadata": {
      "needs_background": "light"
     },
     "output_type": "display_data"
    }
   ],
   "source": [
    "fig = plt.figure()\n",
    "ax = fig.add_subplot(1, 1, 1)\n",
    "plt.savefig('table_mask.png', dpi=310)\n",
    "ax.imshow(table_mask.astype(np.uint8), cmap='gray')"
   ]
  },
  {
   "cell_type": "code",
   "execution_count": 18,
   "metadata": {},
   "outputs": [],
   "source": [
    "im = Image.fromarray(table_mask.astype(np.uint8),'L')\n",
    "# im.show()\n",
    "im.save(\"table_mask.jpeg\")"
   ]
  },
  {
   "cell_type": "code",
   "execution_count": null,
   "metadata": {},
   "outputs": [],
   "source": []
  }
 ],
 "metadata": {
  "kernelspec": {
   "display_name": "face_emoji",
   "language": "python",
   "name": "face_emoji"
  },
  "language_info": {
   "codemirror_mode": {
    "name": "ipython",
    "version": 3
   },
   "file_extension": ".py",
   "mimetype": "text/x-python",
   "name": "python",
   "nbconvert_exporter": "python",
   "pygments_lexer": "ipython3",
   "version": "3.6.8"
  }
 },
 "nbformat": 4,
 "nbformat_minor": 2
}