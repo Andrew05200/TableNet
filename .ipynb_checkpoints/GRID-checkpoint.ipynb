{
 "cells": [
  {
   "cell_type": "code",
   "execution_count": 58,
   "metadata": {
    "colab": {},
    "colab_type": "code",
    "executionInfo": {
     "elapsed": 1390,
     "status": "ok",
     "timestamp": 1594833549871,
     "user": {
      "displayName": "Dilip Sharma",
      "photoUrl": "https://lh3.googleusercontent.com/a-/AOh14GjyZ5EHZDl4pIAePxsFPSK7mDRZukUUuf_6r6pn6g=s64",
      "userId": "16619098556586196840"
     },
     "user_tz": -330
    },
    "id": "XC9aPK-BbZsj"
   },
   "outputs": [],
   "source": [
    "import xml.etree.ElementTree as ET\n",
    "import numpy as np\n",
    "\n",
    "tree = ET.parse('/content/drive/My Drive/Marmot_data/10.1.1.1.2006_3.xml')\n",
    "root = tree.getroot()\n",
    "size = root.find('size')"
   ]
  },
  {
   "cell_type": "code",
   "execution_count": 76,
   "metadata": {
    "colab": {},
    "colab_type": "code",
    "executionInfo": {
     "elapsed": 1465,
     "status": "ok",
     "timestamp": 1594834937056,
     "user": {
      "displayName": "Dilip Sharma",
      "photoUrl": "https://lh3.googleusercontent.com/a-/AOh14GjyZ5EHZDl4pIAePxsFPSK7mDRZukUUuf_6r6pn6g=s64",
      "userId": "16619098556586196840"
     },
     "user_tz": -330
    },
    "id": "SzraT-97eceq"
   },
   "outputs": [],
   "source": [
    "width = int(size.find('width').text)\n",
    "height = int(size.find('height').text)\n",
    "image = np.zeros((width,height,3), dtype=np.int32)"
   ]
  },
  {
   "cell_type": "code",
   "execution_count": 102,
   "metadata": {
    "colab": {},
    "colab_type": "code",
    "executionInfo": {
     "elapsed": 1637,
     "status": "ok",
     "timestamp": 1594836060111,
     "user": {
      "displayName": "Dilip Sharma",
      "photoUrl": "https://lh3.googleusercontent.com/a-/AOh14GjyZ5EHZDl4pIAePxsFPSK7mDRZukUUuf_6r6pn6g=s64",
      "userId": "16619098556586196840"
     },
     "user_tz": -330
    },
    "id": "43eBqcXHfNpf"
   },
   "outputs": [],
   "source": [
    "for column in root.findall('object'):\n",
    "  bndbox = column.find('bndbox')\n",
    "  xmin = int(bndbox.find('xmin').text)\n",
    "  ymin = int(bndbox.find('ymin').text)\n",
    "  xmax = int(bndbox.find('xmax').text)\n",
    "  ymax = int(bndbox.find('ymax').text)\n",
    "  image[xmin:xmax,ymin:ymax] = [255,255,255]"
   ]
  },
  {
   "cell_type": "code",
   "execution_count": 81,
   "metadata": {
    "colab": {},
    "colab_type": "code",
    "executionInfo": {
     "elapsed": 1423,
     "status": "ok",
     "timestamp": 1594835032527,
     "user": {
      "displayName": "Dilip Sharma",
      "photoUrl": "https://lh3.googleusercontent.com/a-/AOh14GjyZ5EHZDl4pIAePxsFPSK7mDRZukUUuf_6r6pn6g=s64",
      "userId": "16619098556586196840"
     },
     "user_tz": -330
    },
    "id": "27Sj7_CPhSxJ"
   },
   "outputs": [],
   "source": [
    "import matplotlib.pyplot as plt\n",
    "%matplotlib inline \n",
    "from PIL import Image"
   ]
  },
  {
   "cell_type": "code",
   "execution_count": 103,
   "metadata": {
    "colab": {
     "base_uri": "https://localhost:8080/",
     "height": 286
    },
    "colab_type": "code",
    "executionInfo": {
     "elapsed": 1795,
     "status": "ok",
     "timestamp": 1594836063669,
     "user": {
      "displayName": "Dilip Sharma",
      "photoUrl": "https://lh3.googleusercontent.com/a-/AOh14GjyZ5EHZDl4pIAePxsFPSK7mDRZukUUuf_6r6pn6g=s64",
      "userId": "16619098556586196840"
     },
     "user_tz": -330
    },
    "id": "WTAqetI_hVTo",
    "outputId": "c7b125f7-6a98-4b8b-fff9-a16fe784f148"
   },
   "outputs": [
    {
     "data": {
      "text/plain": [
       "(793, 1123)"
      ]
     },
     "execution_count": 103,
     "metadata": {
      "tags": []
     },
     "output_type": "execute_result"
    },
    {
     "data": {
      "image/png": "[encoded data removed]",
      "text/plain": [
       "<Figure size 432x288 with 1 Axes>"
      ]
     },
     "metadata": {
      "needs_background": "light",
      "tags": []
     },
     "output_type": "display_data"
    }
   ],
   "source": [
    "fig = plt.figure()\n",
    "ax = fig.add_subplot(1, 1, 1)\n",
    "ax.imshow(image.astype(np.uint8))\n",
    "bmp_img = Image.open('/content/drive/My Drive/Marmot_data/10.1.1.1.2006_3.bmp')\n",
    "bmp_img.size"
   ]
  },
  {
   "cell_type": "code",
   "execution_count": 100,
   "metadata": {
    "colab": {
     "base_uri": "https://localhost:8080/",
     "height": 286
    },
    "colab_type": "code",
    "executionInfo": {
     "elapsed": 1441,
     "status": "ok",
     "timestamp": 1594835856742,
     "user": {
      "displayName": "Dilip Sharma",
      "photoUrl": "https://lh3.googleusercontent.com/a-/AOh14GjyZ5EHZDl4pIAePxsFPSK7mDRZukUUuf_6r6pn6g=s64",
      "userId": "16619098556586196840"
     },
     "user_tz": -330
    },
    "id": "bnhfk_ErnKI3",
    "outputId": "86567443-db31-4ee9-c572-5289a9e34570"
   },
   "outputs": [
    {
     "data": {
      "text/plain": [
       "<matplotlib.image.AxesImage at 0x7faab22f9a58>"
      ]
     },
     "execution_count": 100,
     "metadata": {
      "tags": []
     },
     "output_type": "execute_result"
    },
    {
     "data": {
      "image/png": "[encoded data removed]",
      "text/plain": [
       "<Figure size 432x288 with 1 Axes>"
      ]
     },
     "metadata": {
      "needs_background": "light",
      "tags": []
     },
     "output_type": "display_data"
    }
   ],
   "source": [
    "from matplotlib.pyplot import imshow\n",
    "img1 = Image.fromarray(image, 'RGB')\n",
    "imshow(np.asarray(img1))"
   ]
  }
 ],
 "metadata": {
  "colab": {
   "authorship_tag": "ABX9TyO6h5v4weHQFEsHZXWCgMu8",
   "collapsed_sections": [],
   "mount_file_id": "1L5et1KXoXeooDB4JnGxlFhohu08RxXSh",
   "name": "GRID.ipynb",
   "provenance": []
  },
  "kernelspec": {
   "display_name": "Python 3",
   "language": "python",
   "name": "python3"
  }
 },
 "nbformat": 4,
 "nbformat_minor": 1
}
